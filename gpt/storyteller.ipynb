{
 "cells": [
  {
   "cell_type": "code",
   "execution_count": 7,
   "id": "b717b2d0-0123-4c68-98b0-8b79f5fb5c96",
   "metadata": {},
   "outputs": [],
   "source": [
    "from transformers import AutoTokenizer, AutoModelForCausalLM, DataCollatorForLanguageModeling, TrainingArguments, \\\n",
    "    Trainer\n",
    "from datasets import load_dataset\n",
    "import matplotlib.pyplot as plt"
   ]
  },
  {
   "cell_type": "markdown",
   "id": "bda1a331-909c-4739-b7c2-89603fc942a3",
   "metadata": {},
   "source": [
    "## References\n",
    "1. https://www.youtube.com/watch?v=bGiFkOsZjKs&ab_channel=MakeStuffWithAI\n",
    "2. https://huggingface.co/docs/transformers/v4.18.0/en/tasks/language_modeling"
   ]
  },
  {
   "cell_type": "code",
   "execution_count": 8,
   "id": "562b25c2-057a-46b2-925c-2e9891d4e1cd",
   "metadata": {},
   "outputs": [],
   "source": [
    "def plot_hist_tokens(dataset, token_or_char):\n",
    "    fontsize = 14\n",
    "\n",
    "    if token_or_char == 'token':\n",
    "        plt.hist([len(x['text'].split(\" \")) for x in dataset['train']])\n",
    "    elif token_or_char == 'char':\n",
    "        plt.hist([len(x['text']) for x in dataset['train']])\n",
    "    else:\n",
    "        raise Exception(f'token_or_char can only be token or char')\n",
    "\n",
    "    plt.xlabel(f'Number of {token_or_char}', fontsize=fontsize)\n",
    "    plt.ylabel(\"Count\", fontsize=fontsize)\n",
    "    plt.show()\n",
    "\n",
    "\n",
    "def inference(prompt, model):\n",
    "    inputs = tokenizer(prompt, return_tensors='pt')\n",
    "    outputs = model.generate(inputs.input_ids,\n",
    "                             pad_token_id=tokenizer.pad_token_id,\n",
    "                             max_new_tokens=200,\n",
    "                             do_sample=True,\n",
    "                             top_k=50,\n",
    "                             top_p=0.95)\n",
    "    outputs_string = tokenizer.batch_decode(outputs)\n",
    "\n",
    "    # print(f'inputs: {inputs}')\n",
    "    # print(f'outputs: {outputs}')\n",
    "\n",
    "    return outputs_string"
   ]
  },
  {
   "cell_type": "markdown",
   "id": "f2dc9441-bda5-422c-a06b-b955ee3aa73d",
   "metadata": {},
   "source": [
    "## Test out the base GPT2 model"
   ]
  },
  {
   "cell_type": "code",
   "execution_count": 6,
   "id": "7b783c84-0500-44ac-a3ea-f91f491b31ab",
   "metadata": {},
   "outputs": [
    {
     "name": "stdout",
     "output_type": "stream",
     "text": [
      "base GPT2 model, outputs_string: [\"Once upon a time, the human body was the only place a human body could reach. However, it still didn't matter to the god. Because for me, he made a big mistake. In any case, when he tried to give me something, I really couldn't get it because he was making his right mistakes.\\n\\nAfter my first contact with him, we realized that his name was the same from when we arrived at Kainzouya, but he was too long for us to know it at that time. So, that's what I decided to do.\\nIn order to learn something more, I changed my position on Kainzouya. As I was told, Kainzouya was a demon, so I changed my status for the first time.\\nSince that time, I have gained new information about my previous identity. It was only when my first contact with him made me feel like I was a demon.\\nFor this reason, I am already now able to\"]\n"
     ]
    }
   ],
   "source": [
    "batch_size = 32\n",
    "num_train_epochs = 3\n",
    "\n",
    "model_name = 'distilgpt2'\n",
    "tokenizer = AutoTokenizer.from_pretrained(model_name)\n",
    "model = AutoModelForCausalLM.from_pretrained(model_name)\n",
    "\n",
    "if tokenizer.pad_token is None:\n",
    "    tokenizer.pad_token = tokenizer.eos_token\n",
    "\n",
    "prompt = 'Once upon a time'\n",
    "outputs_string = inference(prompt, model)\n",
    "print(f'base GPT2 model, outputs_string: {outputs_string}')"
   ]
  },
  {
   "cell_type": "code",
   "execution_count": 9,
   "id": "077ae856-2b0d-4bf0-8c45-04abbf2d6792",
   "metadata": {},
   "outputs": [
    {
     "name": "stderr",
     "output_type": "stream",
     "text": [
      "Repo card metadata block was not found. Setting CardData to empty.\n"
     ]
    },
    {
     "name": "stdout",
     "output_type": "stream",
     "text": [
      "small_stories_dataset: DatasetDict({\n",
      "    train: Dataset({\n",
      "        features: ['text'],\n",
      "        num_rows: 800\n",
      "    })\n",
      "    test: Dataset({\n",
      "        features: ['text'],\n",
      "        num_rows: 200\n",
      "    })\n",
      "})\n"
     ]
    }
   ],
   "source": [
    "data_size = 1000\n",
    "small_stories_dataset = load_dataset('roneneldan/TinyStories', split=f'train[:{data_size}]')\n",
    "small_stories_dataset = small_stories_dataset.train_test_split(train_size=0.8)\n",
    "print(f'small_stories_dataset: {small_stories_dataset}')"
   ]
  },
  {
   "cell_type": "code",
   "execution_count": 10,
   "id": "dc3b6df1-f03e-4196-8457-82cb11d9dd8f",
   "metadata": {},
   "outputs": [
    {
     "data": {
      "image/png": "[encoded data removed]",
      "text/plain": [
       "<Figure size 640x480 with 1 Axes>"
      ]
     },
     "metadata": {},
     "output_type": "display_data"
    }
   ],
   "source": [
    "plot_hist_tokens(small_stories_dataset, token_or_char='char')"
   ]
  },
  {
   "cell_type": "markdown",
   "id": "86fa9280-584d-4eda-add2-621f06c60e58",
   "metadata": {},
   "source": [
    "##  Fine-tuning GPT2 with TinyStories"
   ]
  },
  {
   "cell_type": "code",
   "execution_count": 5,
   "id": "1644408b-0304-4678-b93f-aa1f9d06a6d9",
   "metadata": {},
   "outputs": [
    {
     "data": {
      "application/vnd.jupyter.widget-view+json": {
       "model_id": "ae3d1f7e9ffa4fd6971cdaf65a430802",
       "version_major": 2,
       "version_minor": 0
      },
      "text/plain": [
       "Map:   0%|          | 0/800 [00:00<?, ? examples/s]"
      ]
     },
     "metadata": {},
     "output_type": "display_data"
    },
    {
     "data": {
      "application/vnd.jupyter.widget-view+json": {
       "model_id": "bd105c3f3fd748268ce4ec50e4765233",
       "version_major": 2,
       "version_minor": 0
      },
      "text/plain": [
       "Map:   0%|          | 0/200 [00:00<?, ? examples/s]"
      ]
     },
     "metadata": {},
     "output_type": "display_data"
    },
    {
     "name": "stdout",
     "output_type": "stream",
     "text": [
      "{'input_ids': [7454, 2402, 257, 640, 612, 373, 257, 1310, 2576, 508, 6151, 13229, 13, 1375, 19092, 510, 530, 3329, 290, 1965, 607, 1995, 11, 366, 6090, 356, 467, 319, 257, 5296, 1909, 1701, 2332, 11254, 13541, 290, 531, 11, 366, 5297, 11, 1309, 338, 467, 2474, 220, 198, 198, 464, 1310, 2576, 1392, 12049, 2952, 290, 484, 1816, 2354, 13, 383, 4252, 373, 6016, 290, 262, 6766, 373, 257, 4950, 3124, 13, 198, 198, 464, 1995, 290, 262, 1310, 2576, 6807, 284, 262, 3952, 290, 1816, 284, 262, 16723, 13, 383, 1310, 2576, 2627, 845, 6568, 290, 2227, 284, 11240, 262, 16723, 13, 1375, 13176, 262, 4859, 290, 33091, 262, 1660, 13, 198, 198, 464, 16723, 2627, 257, 20239, 348, 1901, 7742, 286, 1257, 13, 383, 1310, 2576, 373, 523, 3772, 326, 673, 39480, 1088, 351, 8716, 13, 14384, 262, 348, 1901, 7742, 11, 673, 1043, 20239, 5916, 11, 12586, 11, 290, 617, 1402, 14068, 13, 220, 198, 198, 464, 1995, 290, 262, 1310, 2576, 550, 257, 7932, 5296, 290, 4504, 1363, 351, 6041, 286, 4950, 9846, 13], 'attention_mask': [1, 1, 1, 1, 1, 1, 1, 1, 1, 1, 1, 1, 1, 1, 1, 1, 1, 1, 1, 1, 1, 1, 1, 1, 1, 1, 1, 1, 1, 1, 1, 1, 1, 1, 1, 1, 1, 1, 1, 1, 1, 1, 1, 1, 1, 1, 1, 1, 1, 1, 1, 1, 1, 1, 1, 1, 1, 1, 1, 1, 1, 1, 1, 1, 1, 1, 1, 1, 1, 1, 1, 1, 1, 1, 1, 1, 1, 1, 1, 1, 1, 1, 1, 1, 1, 1, 1, 1, 1, 1, 1, 1, 1, 1, 1, 1, 1, 1, 1, 1, 1, 1, 1, 1, 1, 1, 1, 1, 1, 1, 1, 1, 1, 1, 1, 1, 1, 1, 1, 1, 1, 1, 1, 1, 1, 1, 1, 1, 1, 1, 1, 1, 1, 1, 1, 1, 1, 1, 1, 1, 1, 1, 1, 1, 1, 1, 1, 1, 1, 1, 1, 1, 1, 1, 1, 1, 1, 1, 1, 1, 1, 1, 1, 1, 1, 1, 1, 1, 1, 1, 1, 1, 1, 1, 1, 1, 1]}\n"
     ]
    }
   ],
   "source": [
    "def preprocess_batch(batch, max_length=1000):\n",
    "    trimmed_text_items = [x[:max_length] for x in batch['text']]\n",
    "    return tokenizer(trimmed_text_items)\n",
    "\n",
    "\n",
    "tokenized_dataset = small_stories_dataset.map(preprocess_batch,\n",
    "                                              batched=True,\n",
    "                                              batch_size=batch_size,\n",
    "                                              remove_columns=small_stories_dataset['train'].column_names,\n",
    "                                              )\n",
    "print(tokenized_dataset['train'][0])"
   ]
  },
  {
   "cell_type": "code",
   "execution_count": 6,
   "id": "89f715ba-0efb-4a65-8a2b-702b546a6309",
   "metadata": {},
   "outputs": [
    {
     "name": "stdout",
     "output_type": "stream",
     "text": [
      "data_collator: DataCollatorForLanguageModeling(tokenizer=GPT2TokenizerFast(name_or_path='distilgpt2', vocab_size=50257, model_max_length=1024, is_fast=True, padding_side='right', truncation_side='right', special_tokens={'bos_token': '<|endoftext|>', 'eos_token': '<|endoftext|>', 'unk_token': '<|endoftext|>', 'pad_token': '<|endoftext|>'}, clean_up_tokenization_spaces=True),  added_tokens_decoder={\n",
      "\t50256: AddedToken(\"<|endoftext|>\", rstrip=False, lstrip=False, single_word=False, normalized=True, special=True),\n",
      "}, mlm=False, mlm_probability=0.15, pad_to_multiple_of=None, tf_experimental_compile=False, return_tensors='pt')\n"
     ]
    }
   ],
   "source": [
    "# Data collator creates mini training batches, and ensures the same length through padding or truncation\n",
    "data_collator = DataCollatorForLanguageModeling(tokenizer=tokenizer,\n",
    "                                                mlm=False,\n",
    "                                                )\n",
    "print(f'data_collator: {data_collator}')"
   ]
  },
  {
   "cell_type": "code",
   "execution_count": 7,
   "id": "dd9eaa84-c206-4e88-a660-41251ff41004",
   "metadata": {},
   "outputs": [
    {
     "name": "stderr",
     "output_type": "stream",
     "text": [
      "C:\\Users\\billt\\PycharmProjects\\DeepLearning\\dl_venv\\lib\\site-packages\\accelerate\\accelerator.py:436: FutureWarning: Passing the following arguments to `Accelerator` is deprecated and will be removed in version 1.0 of Accelerate: dict_keys(['dispatch_batches', 'split_batches', 'even_batches', 'use_seedable_sampler']). Please pass an `accelerate.DataLoaderConfiguration` instead: \n",
      "dataloader_config = DataLoaderConfiguration(dispatch_batches=None, split_batches=False, even_batches=True, use_seedable_sampler=True)\n",
      "  warnings.warn(\n"
     ]
    },
    {
     "data": {
      "text/html": [
       "\n",
       "    <div>\n",
       "      \n",
       "      <progress value='300' max='300' style='width:300px; height:20px; vertical-align: middle;'></progress>\n",
       "      [300/300 00:35, Epoch 3/3]\n",
       "    </div>\n",
       "    <table border=\"1\" class=\"dataframe\">\n",
       "  <thead>\n",
       " <tr style=\"text-align: left;\">\n",
       "      <th>Epoch</th>\n",
       "      <th>Training Loss</th>\n",
       "      <th>Validation Loss</th>\n",
       "    </tr>\n",
       "  </thead>\n",
       "  <tbody>\n",
       "    <tr>\n",
       "      <td>1</td>\n",
       "      <td>No log</td>\n",
       "      <td>2.245770</td>\n",
       "    </tr>\n",
       "    <tr>\n",
       "      <td>2</td>\n",
       "      <td>No log</td>\n",
       "      <td>2.194003</td>\n",
       "    </tr>\n",
       "    <tr>\n",
       "      <td>3</td>\n",
       "      <td>No log</td>\n",
       "      <td>2.180306</td>\n",
       "    </tr>\n",
       "  </tbody>\n",
       "</table><p>"
      ],
      "text/plain": [
       "<IPython.core.display.HTML object>"
      ]
     },
     "metadata": {},
     "output_type": "display_data"
    },
    {
     "data": {
      "text/plain": [
       "TrainOutput(global_step=300, training_loss=2.3090610758463543, metrics={'train_runtime': 36.8966, 'train_samples_per_second': 65.047, 'train_steps_per_second': 8.131, 'total_flos': 162371433922560.0, 'train_loss': 2.3090610758463543, 'epoch': 3.0})"
      ]
     },
     "execution_count": 7,
     "metadata": {},
     "output_type": "execute_result"
    }
   ],
   "source": [
    "training_args = TrainingArguments(output_dir='./output',\n",
    "                                  evaluation_strategy='epoch',\n",
    "                                  num_train_epochs=num_train_epochs,\n",
    "                                  )\n",
    "trainer = Trainer(model=model,\n",
    "                  train_dataset=tokenized_dataset['train'],\n",
    "                  eval_dataset=tokenized_dataset['test'],\n",
    "                  args=training_args,\n",
    "                  data_collator=data_collator,\n",
    "                  )\n",
    "trainer.train()"
   ]
  },
  {
   "cell_type": "code",
   "execution_count": 8,
   "id": "b0f1d878-7aac-4f2a-b4df-c001cff51ea5",
   "metadata": {},
   "outputs": [
    {
     "name": "stdout",
     "output_type": "stream",
     "text": [
      "fine-tuned, outputs_string: [\"Once upon a time, there was a little girl named Lily. She was only three years old but she loved to play outside with her friends. One day, she went to the park to play with her friends. She saw lots of beautiful birds, animals and animals.\\n\\nLily was playing in the park with her friends and felt very excited. She went to the birds and looked at them closely. They saw birds and animals and animals and looked at Lily's eyes. Lily was happy to see the birds and animals and smiled. She was so happy to be surrounded by the birds and animals she saw each time.\\n\\nWhen she was done playing with her friends, she felt a bit sad. She wanted to be sure she was getting more and more excited. Lily felt really bad and sad at losing her friends, because she lost her friends in her park. She looked up and saw that the birds were flying away and the animals and animals had a good time in the park.\\n\\nLily felt\"]\n"
     ]
    }
   ],
   "source": [
    "# Load model from the latest checkpoint\n",
    "model = AutoModelForCausalLM.from_pretrained('./output/checkpoint-1000')\n",
    "prompt = 'Once upon a time'\n",
    "outputs_string = inference(prompt, model)\n",
    "print(f'fine-tuned, outputs_string: {outputs_string}')"
   ]
  }
 ],
 "metadata": {
  "kernelspec": {
   "display_name": "dl_venv",
   "language": "python",
   "name": "dl_venv"
  },
  "language_info": {
   "codemirror_mode": {
    "name": "ipython",
    "version": 3
   },
   "file_extension": ".py",
   "mimetype": "text/x-python",
   "name": "python",
   "nbconvert_exporter": "python",
   "pygments_lexer": "ipython3",
   "version": "3.8.6"
  }
 },
 "nbformat": 4,
 "nbformat_minor": 5
}
