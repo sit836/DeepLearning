{
 "cells": [
  {
   "cell_type": "code",
   "execution_count": 1,
   "id": "dac1393a-14a2-4e72-9e2b-7435fdb5a816",
   "metadata": {},
   "outputs": [],
   "source": [
    "import os\n",
    "import random\n",
    "import torch\n",
    "from d2l import torch as d2l"
   ]
  },
  {
   "cell_type": "code",
   "execution_count": 2,
   "id": "a963f350-453c-450c-980a-54966aee902a",
   "metadata": {},
   "outputs": [],
   "source": [
    "d2l.DATA_HUB['wikitext-2'] = ('https://s3.amazonaws.com/research.metamind.io/wikitext/wikitext-2-v1.zip',\n",
    "                              '3c914d17d80b1459be871a5039ac23e752a53cbe')"
   ]
  },
  {
   "cell_type": "code",
   "execution_count": 3,
   "id": "1bf0f68b-339f-4eb0-9bfd-b45c6bf84436",
   "metadata": {},
   "outputs": [],
   "source": [
    "def _read_wiki(data_dir):\n",
    "    file_name = os.path.join(data_dir, 'wiki.train.tokens')\n",
    "    with open(file_name, 'r', encoding=\"utf8\") as f:\n",
    "        lines = f.readlines()\n",
    "    # Uppercase letters are converted to lowercase ones\n",
    "    paragraphs = [line.strip().lower().split(' . ') for line in lines if len(line.split(' . ')) >= 2]\n",
    "    random.shuffle(paragraphs)\n",
    "    return paragraphs"
   ]
  },
  {
   "cell_type": "code",
   "execution_count": 4,
   "id": "956d31af-3dc6-431f-b26c-f13981dd0c64",
   "metadata": {},
   "outputs": [],
   "source": [
    "def _get_next_sentence(sentence, next_sentence, paragraphs):\n",
    "    if random.random() < 0.5:\n",
    "        is_next = True\n",
    "    else:\n",
    "        # `paragraphs` is a list of lists of lists\n",
    "        next_sentence = random.choice(random.choice(paragraphs))\n",
    "        is_next = False\n",
    "    return sentence, next_sentence, is_next"
   ]
  },
  {
   "cell_type": "code",
   "execution_count": 5,
   "id": "754c45e0-d222-49ee-9cf4-95e18b24c9c7",
   "metadata": {},
   "outputs": [],
   "source": [
    "def _get_nsp_data_from_paragraph(paragraph, paragraphs, vocab, max_len):\n",
    "    nsp_data_from_paragraph = []\n",
    "    for i in range(len(paragraph) - 1):\n",
    "        tokens_a, tokens_b, is_next = _get_next_sentence(paragraph[i], paragraph[i + 1], paragraphs)\n",
    "        # Consider 1 '<cls>' token and 2 '<sep>' tokens\n",
    "        if len(tokens_a) + len(tokens_b) + 3 > max_len:\n",
    "            continue\n",
    "        tokens, segments = d2l.get_tokens_and_segments(tokens_a, tokens_b)\n",
    "        nsp_data_from_paragraph.append((tokens, segments, is_next))\n",
    "    return nsp_data_from_paragraph"
   ]
  },
  {
   "cell_type": "code",
   "execution_count": 6,
   "id": "3592b515-8a4a-43df-8b99-eca15ffdd938",
   "metadata": {},
   "outputs": [],
   "source": [
    "def _replace_mlm_tokens(tokens, candidate_pred_positions, num_mlm_preds, vocab):\n",
    "    # For the input of a masked language model, make a new copy of tokens and\n",
    "    # replace some of them by '<mask>' or random tokens\n",
    "    mlm_input_tokens = [token for token in tokens]\n",
    "    pred_positions_and_labels = []\n",
    "    # Shuffle for getting 15% random tokens for prediction in the masked\n",
    "    # language modeling task\n",
    "    random.shuffle(candidate_pred_positions)\n",
    "    for mlm_pred_position in candidate_pred_positions:\n",
    "        if len(pred_positions_and_labels) >= num_mlm_preds:\n",
    "            break\n",
    "        masked_token = None\n",
    "        # 80% of the time: replace the word with the '<mask>' token\n",
    "        if random.random() < 0.8:\n",
    "            masked_token = '<mask>'\n",
    "        else:\n",
    "            # 10% of the time: keep the word unchanged\n",
    "            if random.random() < 0.5:\n",
    "                masked_token = tokens[mlm_pred_position]\n",
    "            # 10% of the time: replace the word with a random word\n",
    "            else:\n",
    "                masked_token = random.choice(vocab.idx_to_token)\n",
    "        mlm_input_tokens[mlm_pred_position] = masked_token\n",
    "        pred_positions_and_labels.append((mlm_pred_position, tokens[mlm_pred_position]))\n",
    "    return mlm_input_tokens, pred_positions_and_labels"
   ]
  },
  {
   "cell_type": "code",
   "execution_count": 7,
   "id": "b1e19d43-7a91-4249-8ba2-e5b420206133",
   "metadata": {},
   "outputs": [],
   "source": [
    "def _get_mlm_data_from_tokens(tokens, vocab):\n",
    "    candidate_pred_positions = []\n",
    "    # `tokens` is a list of strings\n",
    "    for i, token in enumerate(tokens):\n",
    "        # Special tokens are not predicted in the masked language modeling\n",
    "        # task\n",
    "        if token in ['<cls>', '<sep>']:\n",
    "            continue\n",
    "        candidate_pred_positions.append(i)\n",
    "    # 15% of random tokens are predicted in the masked language modeling task\n",
    "    num_mlm_preds = max(1, round(len(tokens) * 0.15))\n",
    "    mlm_input_tokens, pred_positions_and_labels = _replace_mlm_tokens(tokens, candidate_pred_positions, num_mlm_preds,\n",
    "                                                                      vocab)\n",
    "    pred_positions_and_labels = sorted(pred_positions_and_labels, key=lambda x: x[0])\n",
    "    pred_positions = [v[0] for v in pred_positions_and_labels]\n",
    "    mlm_pred_labels = [v[1] for v in pred_positions_and_labels]\n",
    "    return vocab[mlm_input_tokens], pred_positions, vocab[mlm_pred_labels]"
   ]
  },
  {
   "cell_type": "markdown",
   "id": "e4c2c36f-141b-471c-a633-f4d247ec5e62",
   "metadata": {},
   "source": [
    "```\n",
    "    mlm_input_tokens: ['<cls>', 'it', \"'s\", 'new', '<mask>', 'me', '<mask>', 'but', 'i', \"'m\", 'enjoying', 'it',\n",
    "                        '<sep>', '\"', '<sep>']\n",
    "    pred_positions: [4, 6]\n",
    "    mlm_pred_labels: ['for', ',']\n",
    "```"
   ]
  },
  {
   "cell_type": "code",
   "execution_count": 8,
   "id": "472d0e68-eac1-4683-a5bd-7af2201ba7c5",
   "metadata": {},
   "outputs": [],
   "source": [
    "def _pad_bert_inputs(examples, max_len, vocab):\n",
    "    max_num_mlm_preds = round(max_len * 0.15)\n",
    "    all_token_ids, all_segments, valid_lens, = [], [], []\n",
    "    all_pred_positions, all_mlm_weights, all_mlm_labels = [], [], []\n",
    "    nsp_labels = []\n",
    "    for (token_ids, pred_positions, mlm_pred_label_ids, segments,\n",
    "         is_next) in examples:\n",
    "        all_token_ids.append(torch.tensor(token_ids + [vocab['<pad>']] * (\n",
    "                max_len - len(token_ids)), dtype=torch.long))\n",
    "        all_segments.append(torch.tensor(segments + [0] * (\n",
    "                max_len - len(segments)), dtype=torch.long))\n",
    "        # `valid_lens` excludes count of '<pad>' tokens\n",
    "        valid_lens.append(torch.tensor(len(token_ids), dtype=torch.float32))\n",
    "        all_pred_positions.append(torch.tensor(pred_positions + [0] * (\n",
    "                max_num_mlm_preds - len(pred_positions)), dtype=torch.long))\n",
    "        # Predictions of padded tokens will be filtered out in the loss via\n",
    "        # multiplication of 0 weights\n",
    "        all_mlm_weights.append(\n",
    "            torch.tensor([1.0] * len(mlm_pred_label_ids) + [0.0] * (\n",
    "                    max_num_mlm_preds - len(pred_positions)),\n",
    "                         dtype=torch.float32))\n",
    "        all_mlm_labels.append(torch.tensor(mlm_pred_label_ids + [0] * (\n",
    "                max_num_mlm_preds - len(mlm_pred_label_ids)), dtype=torch.long))\n",
    "        nsp_labels.append(torch.tensor(is_next, dtype=torch.long))\n",
    "    return (all_token_ids, all_segments, valid_lens, all_pred_positions,\n",
    "            all_mlm_weights, all_mlm_labels, nsp_labels)"
   ]
  },
  {
   "cell_type": "markdown",
   "id": "5add9b5a-f251-4445-a017-c0f8b0367ce1",
   "metadata": {},
   "source": [
    "```\n",
    "all_segments: [tensor([0, 0, 0, 0, 0, 0, 0, 0, 0, 0, 0, 0, 1, 1, 0, 0]),...\n",
    "\n",
    "```"
   ]
  },
  {
   "cell_type": "code",
   "execution_count": 9,
   "id": "0e13ff27-e34e-47d2-af53-d9eee75984e6",
   "metadata": {},
   "outputs": [],
   "source": [
    "class _WikiTextDataset(torch.utils.data.Dataset):\n",
    "    def __init__(self, paragraphs, max_len):\n",
    "        # Input `paragraphs[i]` is a list of sentence strings representing a\n",
    "        # paragraph; while output `paragraphs[i]` is a list of sentences\n",
    "        # representing a paragraph, where each sentence is a list of tokens\n",
    "        paragraphs = [d2l.tokenize(\n",
    "            paragraph, token='word') for paragraph in paragraphs]\n",
    "        sentences = [sentence for paragraph in paragraphs\n",
    "                     for sentence in paragraph]\n",
    "        self.vocab = d2l.Vocab(sentences, min_freq=5, reserved_tokens=[\n",
    "            '<pad>', '<mask>', '<cls>', '<sep>'])\n",
    "        # Get data for the next sentence prediction task\n",
    "        examples = []\n",
    "        for paragraph in paragraphs:\n",
    "            examples.extend(_get_nsp_data_from_paragraph(\n",
    "                paragraph, paragraphs, self.vocab, max_len))\n",
    "        # Get data for the masked language model task\n",
    "        examples = [(_get_mlm_data_from_tokens(tokens, self.vocab)\n",
    "                     + (segments, is_next))\n",
    "                    for tokens, segments, is_next in examples]\n",
    "        # Pad inputs\n",
    "        (self.all_token_ids, self.all_segments, self.valid_lens,\n",
    "         self.all_pred_positions, self.all_mlm_weights,\n",
    "         self.all_mlm_labels, self.nsp_labels) = _pad_bert_inputs(\n",
    "            examples, max_len, self.vocab)\n",
    "\n",
    "    def __getitem__(self, idx):\n",
    "        return (self.all_token_ids[idx], self.all_segments[idx],\n",
    "                self.valid_lens[idx], self.all_pred_positions[idx],\n",
    "                self.all_mlm_weights[idx], self.all_mlm_labels[idx],\n",
    "                self.nsp_labels[idx])\n",
    "\n",
    "    def __len__(self):\n",
    "        return len(self.all_token_ids)"
   ]
  },
  {
   "cell_type": "code",
   "execution_count": 10,
   "id": "e395912c-3966-423d-8e38-6b90eba1dcd3",
   "metadata": {},
   "outputs": [],
   "source": [
    "def load_data_wiki(batch_size, max_len):\n",
    "    \"\"\"Load the WikiText-2 dataset.\"\"\"\n",
    "    num_workers = d2l.get_dataloader_workers()\n",
    "    data_dir = d2l.download_extract('wikitext-2', 'wikitext-2')\n",
    "    paragraphs = _read_wiki(data_dir)\n",
    "    train_set = _WikiTextDataset(paragraphs, max_len)\n",
    "    train_iter = torch.utils.data.DataLoader(train_set, batch_size,\n",
    "                                             shuffle=True, num_workers=num_workers)\n",
    "    return train_iter, train_set.vocab"
   ]
  },
  {
   "cell_type": "code",
   "execution_count": null,
   "id": "5fccd7c7-17f6-410d-a963-2ad0d2145cc7",
   "metadata": {},
   "outputs": [],
   "source": [
    "if __name__ == '__main__':\n",
    "    torch.manual_seed(0)\n",
    "    random.seed(0)\n",
    "\n",
    "    batch_size, max_len = 32, 16\n",
    "    train_iter, vocab = load_data_wiki(batch_size, max_len)\n",
    "    \n",
    "    for (tokens_X, segments_X, valid_lens_x, pred_positions_X, mlm_weights_X,\n",
    "         mlm_Y, nsp_y) in train_iter:\n",
    "        print(tokens_X.shape, segments_X.shape, valid_lens_x.shape,\n",
    "              pred_positions_X.shape, mlm_weights_X.shape, mlm_Y.shape,\n",
    "              nsp_y.shape)\n",
    "        break"
   ]
  },
  {
   "cell_type": "markdown",
   "id": "6bf32f60-4de3-4975-aea4-d2731806587d",
   "metadata": {},
   "source": [
    "```\n",
    "vocab.token_to_idx:\n",
    "...\n",
    "20224, 'α': 20225, 'β': 20226, 'μm': 20227, 'الله': 20228, '्': 20229, '‑': 20230, '–': 20231, '—': 20232, '‘': 20233, '’': 20234, '“': 20235, '”': 20236, '„': 20237, '…': 20238, '′': 20239, '⁄': 20240, '€': 20241, '₹': 20242, '⅓': 20243, '→': 20244, '−': 20245, '≤': 20246, '☉': 20247, '♭': 20248, '♯': 20249, '〈': 20250, '〉': 20251, '・': 20252, '大空': 20253, '\\ufeff': 20254, '～': 20255}\n",
    "```"
   ]
  },
  {
   "cell_type": "markdown",
   "id": "de84edbc-9bfa-44c4-af73-ba987a7f2cbd",
   "metadata": {},
   "source": [
    "```\n",
    "        print(tokens_X.shape, segments_X.shape, valid_lens_x.shape,\r\n",
    "              pred_positions_X.shape, mlm_weights_X.shape, mlm_Y.shape,\r\n",
    "              nsp_y.shape)\r\n",
    "        print(f'pred_positions_X: {pred_positions_X\n",
    "\n",
    "torch.Size([32, 16]) torch.Size([32, 16]) torch.Size([32]) torch.Size([32, 2]) torch.Size([32, 2]) torch.Size([32, 2]) torch.Size([32])\r\n",
    "pred_positions_X: tensor([[ 1,  2],\r\n",
    "        [ 2,  9],\r\n",
    "        [ 4, 10],\r\n",
    "        [ 2,  5],\r\n",
    "        [ 3,  8],\r\n",
    "        [ 3,  7],\r\n",
    "        [ 8, 10],\r\n",
    "        [ 2,  7],\r\n",
    "        [ 3,  0],\r\n",
    "        [ 6,  7],\r\n",
    "        [ 3,  7],\r\n",
    "        [ 1,  2],\r\n",
    "        [ 2,  7],\r\n",
    "        [ 5,  6],\r\n",
    "        [ 5,  0],\r\n",
    "        [ 2,  8],\r\n",
    "        [ 8, 11],\r\n",
    "        [ 1,  0],\r\n",
    "        [ 1,  3],\r\n",
    "        [ 3,  6],\r\n",
    "        [ 7,  0],\r\n",
    "        [ 4,  9],\r\n",
    "        [ 8, 11],\r\n",
    "        [ 3,  8],\r\n",
    "        [ 4,  0],\r\n",
    "        [ 4,  0],\r\n",
    "        [ 2,  5],\r\n",
    "        [ 4,  0],\r\n",
    "        [ 8, 13],\r\n",
    "        [ 2,  6],\r\n",
    "       [ 6,  7],\r\n",
    "        [ 3,  8]])\r\n",
    "}')\n",
    "```"
   ]
  },
  {
   "cell_type": "markdown",
   "id": "cc745c4a-2296-4e76-8129-65f520b43af4",
   "metadata": {},
   "source": [
    "1. round(16*0.15) = 2"
   ]
  },
  {
   "cell_type": "code",
   "execution_count": null,
   "id": "5ad8b70a-ebca-4cf5-a03d-56ecabbd1590",
   "metadata": {},
   "outputs": [],
   "source": []
  }
 ],
 "metadata": {
  "kernelspec": {
   "display_name": "dl_venv",
   "language": "python",
   "name": "dl_venv"
  },
  "language_info": {
   "codemirror_mode": {
    "name": "ipython",
    "version": 3
   },
   "file_extension": ".py",
   "mimetype": "text/x-python",
   "name": "python",
   "nbconvert_exporter": "python",
   "pygments_lexer": "ipython3",
   "version": "3.8.6"
  }
 },
 "nbformat": 4,
 "nbformat_minor": 5
}
